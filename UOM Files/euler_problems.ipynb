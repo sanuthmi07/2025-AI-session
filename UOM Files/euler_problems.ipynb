{
 "cells": [
  {
   "cell_type": "code",
   "execution_count": 2,
   "id": "c2395cf6",
   "metadata": {},
   "outputs": [
    {
     "name": "stdout",
     "output_type": "stream",
     "text": [
      "233168\n"
     ]
    }
   ],
   "source": [
    "def multiplies_of_three_and_five(limit):\n",
    "    return sum(x for x in range(limit) if x % 3 == 0 or x % 5 == 0)\n",
    "\n",
    "print(multiplies_of_three_and_five(1000))"
   ]
  },
  {
   "cell_type": "code",
   "execution_count": 1,
   "id": "08e1b680",
   "metadata": {},
   "outputs": [
    {
     "name": "stdout",
     "output_type": "stream",
     "text": [
      "4613732\n"
     ]
    }
   ],
   "source": [
    "def even_fibonacci_sum(limit):\n",
    "    a, b = 0, 1\n",
    "    total = 0\n",
    "    while b < limit:\n",
    "        if b % 2 == 0:\n",
    "            total += b\n",
    "        a, b = b, a + b\n",
    "    return total\n",
    "print(even_fibonacci_sum(4000000))"
   ]
  },
  {
   "cell_type": "code",
   "execution_count": 3,
   "id": "337dc2ad",
   "metadata": {},
   "outputs": [
    {
     "name": "stdout",
     "output_type": "stream",
     "text": [
      "6857\n"
     ]
    }
   ],
   "source": [
    "def largest_prime_factor(n):\n",
    "    factor = 2\n",
    "    while factor * factor <= n:\n",
    "        if n % factor:\n",
    "            factor += 1\n",
    "        else:\n",
    "            n //= factor\n",
    "    return n\n",
    "\n",
    "print(largest_prime_factor(600851475143))"
   ]
  },
  {
   "cell_type": "code",
   "execution_count": 4,
   "id": "ce78cf6f",
   "metadata": {},
   "outputs": [
    {
     "name": "stdout",
     "output_type": "stream",
     "text": [
      "906609\n"
     ]
    }
   ],
   "source": [
    "def largest_palindrom_product(digits):\n",
    "    max_palindrome = 0\n",
    "    lower_limit = 10**(digits - 1)\n",
    "    upper_limit = 10**digits\n",
    "    for i in range(upper_limit - 1, lower_limit - 1, -1):\n",
    "        for j in range(i, lower_limit - 1, -1):\n",
    "            product = i * j\n",
    "            if product <= max_palindrome:\n",
    "                break\n",
    "            if str(product) == str(product)[::-1]:\n",
    "                max_palindrome = product\n",
    "    return max_palindrome\n",
    "print(largest_palindrom_product(3))"
   ]
  },
  {
   "cell_type": "code",
   "execution_count": 5,
   "id": "cca87e2a",
   "metadata": {},
   "outputs": [
    {
     "name": "stdout",
     "output_type": "stream",
     "text": [
      "232792560\n"
     ]
    }
   ],
   "source": [
    "def smallest_multiple(n):\n",
    "    from math import gcd\n",
    "    lcm = 1\n",
    "    for i in range(2, n + 1):\n",
    "        lcm = lcm * i // gcd(lcm, i)\n",
    "    return lcm\n",
    "print(smallest_multiple(20))"
   ]
  },
  {
   "cell_type": "code",
   "execution_count": 6,
   "id": "c96eef6d",
   "metadata": {},
   "outputs": [
    {
     "name": "stdout",
     "output_type": "stream",
     "text": [
      "25164150\n"
     ]
    }
   ],
   "source": [
    "def sum_square_difference(n):\n",
    "    sum_of_squares = sum(i * i for i in range(1, n + 1))\n",
    "    square_of_sum = sum(range(1, n + 1)) ** 2\n",
    "    return square_of_sum - sum_of_squares\n",
    "print(sum_square_difference(100))"
   ]
  },
  {
   "cell_type": "code",
   "execution_count": 7,
   "id": "2006ee43",
   "metadata": {},
   "outputs": [
    {
     "name": "stdout",
     "output_type": "stream",
     "text": [
      "104743\n"
     ]
    }
   ],
   "source": [
    "def find_10_1001st_prime():\n",
    "    def is_prime(num):\n",
    "        if num < 2:\n",
    "            return False\n",
    "        for i in range(2, int(num**0.5) + 1):\n",
    "            if num % i == 0:\n",
    "                return False\n",
    "        return True\n",
    "\n",
    "    count = 0\n",
    "    num = 1\n",
    "    while count < 10001:\n",
    "        num += 1\n",
    "        if is_prime(num):\n",
    "            count += 1\n",
    "    return num\n",
    "print(find_10_1001st_prime())"
   ]
  },
  {
   "cell_type": "code",
   "execution_count": 8,
   "id": "59ab7e31",
   "metadata": {},
   "outputs": [
    {
     "name": "stdout",
     "output_type": "stream",
     "text": [
      "568995840\n"
     ]
    }
   ],
   "source": [
    "def largest_product_in_series(series, length):\n",
    "    max_product = 0\n",
    "    for i in range(len(series) - length + 1):\n",
    "        product = 1\n",
    "        for j in range(length):\n",
    "            product *= int(series[i + j])\n",
    "        if product > max_product:\n",
    "            max_product = product\n",
    "    return max_product\n",
    "print(largest_product_in_series(\"73167176531330624919225119674426574742355349194934\", 13))"
   ]
  },
  {
   "cell_type": "code",
   "execution_count": 9,
   "id": "cc49512e",
   "metadata": {},
   "outputs": [
    {
     "name": "stdout",
     "output_type": "stream",
     "text": [
      "31875000\n"
     ]
    }
   ],
   "source": [
    "def special_pythagorean_triplet(total):\n",
    "    for a in range(1, total // 3):\n",
    "        for b in range(a + 1, total // 2):\n",
    "            c = total - a - b\n",
    "            if a * a + b * b == c * c:\n",
    "                return a * b * c\n",
    "    return None\n",
    "print(special_pythagorean_triplet(1000))    "
   ]
  },
  {
   "cell_type": "code",
   "execution_count": 10,
   "id": "2bfbf560",
   "metadata": {},
   "outputs": [
    {
     "name": "stdout",
     "output_type": "stream",
     "text": [
      "142913828922\n"
     ]
    }
   ],
   "source": [
    "def summation_of_primes(limit):\n",
    "    def is_prime(num):\n",
    "        if num < 2:\n",
    "            return False\n",
    "        for i in range(2, int(num**0.5) + 1):\n",
    "            if num % i == 0:\n",
    "                return False\n",
    "        return True\n",
    "\n",
    "    return sum(i for i in range(limit) if is_prime(i))  \n",
    "print(summation_of_primes(2000000))"
   ]
  }
 ],
 "metadata": {
  "kernelspec": {
   "display_name": "Python 3",
   "language": "python",
   "name": "python3"
  },
  "language_info": {
   "codemirror_mode": {
    "name": "ipython",
    "version": 3
   },
   "file_extension": ".py",
   "mimetype": "text/x-python",
   "name": "python",
   "nbconvert_exporter": "python",
   "pygments_lexer": "ipython3",
   "version": "3.13.7"
  }
 },
 "nbformat": 4,
 "nbformat_minor": 5
}
